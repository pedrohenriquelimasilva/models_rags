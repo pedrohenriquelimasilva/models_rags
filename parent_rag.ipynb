{
 "cells": [
  {
   "cell_type": "code",
   "execution_count": 1,
   "id": "44ce8648",
   "metadata": {},
   "outputs": [],
   "source": [
    "from langchain_text_splitters import RecursiveCharacterTextSplitter\n",
    "from langchain_openai import OpenAIEmbeddings, ChatOpenAI\n",
    "from langchain_community.vectorstores import Chroma\n",
    "from langchain_community.document_loaders import PyPDFLoader\n",
    "from langchain_core.prompts import ChatPromptTemplate\n",
    "\n",
    "from langchain.retrievers import ParentDocumentRetriever\n",
    "from langchain.storage import InMemoryStore\n",
    "\n",
    "\n",
    "from langchain_core.runnables import RunnablePassthrough, RunnableParallel\n",
    "from langchain_core.output_parsers import StrOutputParser\n",
    "\n",
    "\n",
    "import os\n",
    "from dotenv import dotenv_values\n"
   ]
  },
  {
   "cell_type": "code",
   "execution_count": 21,
   "id": "1dd60fda",
   "metadata": {},
   "outputs": [],
   "source": [
    "config = dotenv_values(dotenv_path='../.env')"
   ]
  },
  {
   "cell_type": "code",
   "execution_count": 22,
   "id": "1a168597",
   "metadata": {},
   "outputs": [],
   "source": [
    "os.environ['OPENAI_API_KEY'] = config['OPENAI_API_KEY']"
   ]
  },
  {
   "cell_type": "markdown",
   "id": "3d1828f0",
   "metadata": {},
   "source": [
    "# Definição de LLMs"
   ]
  },
  {
   "cell_type": "code",
   "execution_count": 23,
   "id": "555f4559",
   "metadata": {},
   "outputs": [],
   "source": [
    "embeddings = OpenAIEmbeddings(model=\"text-embedding-3-small\")\n",
    "llm = ChatOpenAI(model=\"gpt-3.5-turbo\", temperature=0.4, max_tokens=500)"
   ]
  },
  {
   "cell_type": "markdown",
   "id": "47aefabf",
   "metadata": {},
   "source": [
    "# Carregar PDF e instanciar"
   ]
  },
  {
   "cell_type": "code",
   "execution_count": 24,
   "id": "ac4de3ee",
   "metadata": {},
   "outputs": [],
   "source": [
    "path_file = './os-sertoes.pdf'\n",
    "\n",
    "loader = PyPDFLoader(path_file, extract_images=False)\n",
    "\n",
    "pages = loader.load_and_split()"
   ]
  },
  {
   "cell_type": "markdown",
   "id": "780dee34",
   "metadata": {},
   "source": [
    "# Definição de splitter"
   ]
  },
  {
   "cell_type": "code",
   "execution_count": 26,
   "id": "1ecb039b",
   "metadata": {},
   "outputs": [],
   "source": [
    "chilld_splitter = RecursiveCharacterTextSplitter(\n",
    "    chunk_size=200,\n",
    ")\n",
    "\n",
    "text_splitter = RecursiveCharacterTextSplitter(\n",
    "    chunk_size=4000,\n",
    "    chunk_overlap=200,\n",
    "    length_function=len,\n",
    "    add_start_index=True\n",
    ")"
   ]
  },
  {
   "cell_type": "code",
   "execution_count": 27,
   "id": "fad20615",
   "metadata": {},
   "outputs": [],
   "source": [
    "store = InMemoryStore()\n",
    "\n",
    "vectorstore = Chroma(\n",
    "    embedding_function=embeddings,\n",
    "    persist_directory=\"parent_rag_db\"\n",
    ")"
   ]
  },
  {
   "cell_type": "code",
   "execution_count": 28,
   "id": "0210d7ac",
   "metadata": {},
   "outputs": [],
   "source": [
    "parent_document_retriever = ParentDocumentRetriever(\n",
    "  child_splitter=chilld_splitter,\n",
    "  parent_splitter=text_splitter,\n",
    "  vectorstore=vectorstore,\n",
    "  docstore=store\n",
    ")"
   ]
  },
  {
   "cell_type": "code",
   "execution_count": 29,
   "id": "4312c43e",
   "metadata": {},
   "outputs": [],
   "source": [
    "parent_document_retriever.add_documents(pages, ids=None)"
   ]
  },
  {
   "cell_type": "code",
   "execution_count": 30,
   "id": "ce9b3a8c",
   "metadata": {},
   "outputs": [],
   "source": [
    "template_quests = '''\n",
    "Você é um especialista no livro Os sertões de Euclides da Cunha. Deve responder objetivamente a questão do usuario com base no conteudo fornecido de contexto\n",
    "\n",
    "Questão do usuario: {query}\n",
    "\n",
    "\n",
    "Conteudo: {content}\n",
    "'''\n",
    "\n",
    "rag_prompt = ChatPromptTemplate.from_template(template_quests)"
   ]
  },
  {
   "cell_type": "code",
   "execution_count": 31,
   "id": "5035a390",
   "metadata": {},
   "outputs": [],
   "source": [
    "setup_retrievel = RunnableParallel({\n",
    "    \"query\": RunnablePassthrough(),\n",
    "    \"content\": parent_document_retriever,\n",
    "})"
   ]
  },
  {
   "cell_type": "code",
   "execution_count": 32,
   "id": "d0bb0406",
   "metadata": {},
   "outputs": [],
   "source": [
    "output_parser = StrOutputParser()"
   ]
  },
  {
   "cell_type": "code",
   "execution_count": 33,
   "id": "d8ffc477",
   "metadata": {},
   "outputs": [],
   "source": [
    "parent_chain_retriever = setup_retrievel | rag_prompt | llm | output_parser"
   ]
  },
  {
   "cell_type": "markdown",
   "id": "189b7c40",
   "metadata": {},
   "source": [
    "# Perguntas"
   ]
  },
  {
   "cell_type": "code",
   "execution_count": 34,
   "id": "b73d49a1",
   "metadata": {},
   "outputs": [
    {
     "data": {
      "text/plain": [
       "'A visão de Euclides da Cunha sobre o ambiente natural do sertão nordestino é de um local marcado por condições extremas e adversas, onde os elementos físicos como o clima, a geologia e a topografia se influenciam mutuamente. Ele destaca a mesologia do local, ressaltando a dificuldade de definição de qual agente é preponderante nesse ambiente. Euclides da Cunha descreve a região como selvagem, com uma flora extravagante e um clima instável, marcado por intermitências de cheias e estiagens. Essas condições climáticas extremas influenciam a vida dos habitantes do sertão nordestino, levando a um estilo de vida difícil e adaptado às adversidades do ambiente.'"
      ]
     },
     "execution_count": 34,
     "metadata": {},
     "output_type": "execute_result"
    }
   ],
   "source": [
    "parent_chain_retriever.invoke('Qual é a visão de Euclides da Cunha sobre o ambiente natural do sertão nordestino e como ele influencia a vida dos habitantes?')"
   ]
  },
  {
   "cell_type": "code",
   "execution_count": 35,
   "id": "5dc5f49a",
   "metadata": {},
   "outputs": [
    {
     "data": {
      "text/plain": [
       "'Euclides da Cunha descreve o sertanejo como um indivíduo forte, resistente e adaptado às adversidades do ambiente em que vive. Ele destaca a aparência desgraciosa e desengonçada do sertanejo, mas ressalta sua força física e resistência. O sertanejo é descrito como alguém que se adapta às condições climáticas extremas, como as intermitências de cheias e estiagens, e que enfrenta desafios como a friagem repentina que ocorre na região. Euclides da Cunha relaciona as características da população sertaneja com o ambiente em que vivem, destacando a resistência física e a adaptabilidade do sertanejo às condições adversas do sertão.'"
      ]
     },
     "execution_count": 35,
     "metadata": {},
     "output_type": "execute_result"
    }
   ],
   "source": [
    "parent_chain_retriever.invoke('Quais são as principais características da população sertaneja descritas por Euclides da Cunha? Como ele relaciona essas características com o ambiente em que vivem?')"
   ]
  },
  {
   "cell_type": "code",
   "execution_count": 36,
   "id": "4c2ea521",
   "metadata": {},
   "outputs": [
    {
     "data": {
      "text/plain": [
       "'Segundo Euclides da Cunha, o contexto histórico e político que levou à Guerra de Canudos foi marcado por uma série de expedições militares enviadas para destruir a cidade de Belo Monte, em Canudos, que abrigava cerca de trinta mil habitantes. Essas expedições foram motivadas pela derrota da terceira expedição militar comandada pelo Coronel Antônio Moreira César, que servia aos projetos políticos do governo de Floriano Peixoto. A guerra de Canudos foi vista como uma reação monárquica para solapar as instituições republicanas, levando à preparação de quatro expedições punitivas contra a comunidade de Canudos. Euclides da Cunha acompanhou as ações militares da quarta expedição como jornalista correspondente do jornal O Estado de São Paulo, e sua experiência no campo de batalha do sertão baiano influenciou sua visão sobre o Brasil e a guerra de Canudos.'"
      ]
     },
     "execution_count": 36,
     "metadata": {},
     "output_type": "execute_result"
    }
   ],
   "source": [
    "parent_chain_retriever.invoke('Qual foi o contexto histórico e político que levou à Guerra de Canudos, segundo Euclides da Cunha?')"
   ]
  },
  {
   "cell_type": "code",
   "execution_count": 37,
   "id": "9e6abedf",
   "metadata": {},
   "outputs": [
    {
     "data": {
      "text/plain": [
       "'Euclides da Cunha descreve Antônio Conselheiro como um líder carismático e misterioso, que conseguiu reunir seguidores em torno de sua figura messiânica. Ele era visto como um homem irascível, visionário e de excelente caráter, com capacidade de negociar mesmo sendo analfabeto. Seu pai, Vicente Mendes Maciel, era descrito como um homem de honradez proverbial e rígido, que educou Antônio Conselheiro de forma a isolá-lo da turbulência da família. Antônio Conselheiro era retratado como um adolescente tranquilo e tímido, avesso à troça e dedicado aos negócios do pai. Sua vida seguia um caminho corretíssimo e calmo, até que após cuidar de suas irmãs solteiras, ele próprio se casou e teve um desfecho nefasto. Em meio a essas descrições, fica latente a sugestão de que Antônio Conselheiro poderia se tornar um líder em condições mais favoráveis, o que de fato aconteceu com a formação da comunidade de Canudos e sua resistência às expedições punitivas enviadas para destruí-la.'"
      ]
     },
     "execution_count": 37,
     "metadata": {},
     "output_type": "execute_result"
    }
   ],
   "source": [
    "parent_chain_retriever.invoke('Como Euclides da Cunha descreve a figura de Antônio Conselheiro e seu papel na Guerra de Canudos?')"
   ]
  },
  {
   "cell_type": "code",
   "execution_count": 38,
   "id": "6b35882e",
   "metadata": {},
   "outputs": [
    {
     "data": {
      "text/plain": [
       "'Os principais aspectos da crítica social e política presentes em \"Os Sertões\" estão relacionados à denúncia da injustiça social e à reflexão sobre a realidade do Brasil da época, marcada por transformações históricas como o fim da Guerra do Paraguai, a criação do Partido Republicano e a Abolição da Escravidão. O autor, Euclides da Cunha, apresenta uma visão crítica da sociedade brasileira, evidenciando a marginalização do sertanejo e a desigualdade social entre o interior e o litoral. Ele não defende a vida sertaneja contra a vida citadina, mas aponta para a necessidade de progresso e civilização. A obra reflete a preocupação do autor com uma realidade marcada pela barbárie e pela falta de compreensão dos governantes em relação ao Brasil profundo, esquecido e negligenciado.'"
      ]
     },
     "execution_count": 38,
     "metadata": {},
     "output_type": "execute_result"
    }
   ],
   "source": [
    "parent_chain_retriever.invoke('Quais são os principais aspectos da crítica social e política presentes em \"Os Sertões\"? Como esses aspectos refletem a visão do autor sobre o Brasil da época?')"
   ]
  }
 ],
 "metadata": {
  "kernelspec": {
   "display_name": "envpowerbi",
   "language": "python",
   "name": "python3"
  },
  "language_info": {
   "codemirror_mode": {
    "name": "ipython",
    "version": 3
   },
   "file_extension": ".py",
   "mimetype": "text/x-python",
   "name": "python",
   "nbconvert_exporter": "python",
   "pygments_lexer": "ipython3",
   "version": "3.12.5"
  }
 },
 "nbformat": 4,
 "nbformat_minor": 5
}
