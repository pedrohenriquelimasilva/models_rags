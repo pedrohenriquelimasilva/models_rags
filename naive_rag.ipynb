{
 "cells": [
  {
   "cell_type": "code",
   "execution_count": 1,
   "id": "44ce8648",
   "metadata": {},
   "outputs": [],
   "source": [
    "from langchain_text_splitters import RecursiveCharacterTextSplitter\n",
    "from langchain_openai import OpenAIEmbeddings, ChatOpenAI\n",
    "from langchain_community.vectorstores import Chroma\n",
    "from langchain_community.document_loaders import PyPDFLoader\n",
    "from langchain_core.prompts import ChatPromptTemplate\n",
    "\n",
    "from langchain.retrievers import ParentDocumentRetriever\n",
    "from langchain.storage import InMemoryStore\n",
    "\n",
    "\n",
    "from langchain_core.runnables import RunnablePassthrough, RunnableParallel\n",
    "from langchain_core.output_parsers import StrOutputParser\n",
    "\n",
    "\n",
    "import os\n",
    "from dotenv import dotenv_values\n"
   ]
  },
  {
   "cell_type": "code",
   "execution_count": 2,
   "id": "1dd60fda",
   "metadata": {},
   "outputs": [],
   "source": [
    "config = dotenv_values(dotenv_path='../.env')"
   ]
  },
  {
   "cell_type": "code",
   "execution_count": 3,
   "id": "1a168597",
   "metadata": {},
   "outputs": [],
   "source": [
    "os.environ['OPENAI_API_KEY'] = config['OPENAI_API_KEY']"
   ]
  },
  {
   "cell_type": "markdown",
   "id": "3d1828f0",
   "metadata": {},
   "source": [
    "# Definição de LLMs"
   ]
  },
  {
   "cell_type": "code",
   "execution_count": 4,
   "id": "555f4559",
   "metadata": {},
   "outputs": [],
   "source": [
    "embeddings = OpenAIEmbeddings(model=\"text-embedding-3-small\")\n",
    "llm = ChatOpenAI(model=\"gpt-3.5-turbo\", temperature=0.4, max_tokens=500)"
   ]
  },
  {
   "cell_type": "markdown",
   "id": "47aefabf",
   "metadata": {},
   "source": [
    "# Carregar PDF e instanciar"
   ]
  },
  {
   "cell_type": "code",
   "execution_count": 5,
   "id": "ac4de3ee",
   "metadata": {},
   "outputs": [],
   "source": [
    "path_file = './os-sertoes.pdf'\n",
    "\n",
    "loader = PyPDFLoader(path_file, extract_images=False)\n",
    "\n",
    "pages = loader.load_and_split()"
   ]
  },
  {
   "cell_type": "markdown",
   "id": "780dee34",
   "metadata": {},
   "source": [
    "# Definição de splitter"
   ]
  },
  {
   "cell_type": "code",
   "execution_count": null,
   "id": "1ecb039b",
   "metadata": {},
   "outputs": [],
   "source": [
    "text_splitter = RecursiveCharacterTextSplitter(\n",
    "    chunk_size=1000,\n",
    "    chunk_overlap=100,\n",
    "    length_function=len,\n",
    "    add_start_index=True\n",
    ")"
   ]
  },
  {
   "cell_type": "code",
   "execution_count": 7,
   "id": "4cf76e7f",
   "metadata": {},
   "outputs": [],
   "source": [
    "chunks = text_splitter.split_documents(pages)"
   ]
  },
  {
   "cell_type": "code",
   "execution_count": null,
   "id": "fad20615",
   "metadata": {},
   "outputs": [],
   "source": [
    "store = Chroma(\n",
    "    embedding_function=embeddings,\n",
    "    persist_directory=\"naive_rag_db\"\n",
    ")"
   ]
  },
  {
   "cell_type": "code",
   "execution_count": null,
   "id": "5a5d8519",
   "metadata": {},
   "outputs": [],
   "source": [
    "vectorstore = store.from_documents(chunks, embedding=embeddings, persist_directory=\"parent_rag_db\")"
   ]
  },
  {
   "cell_type": "code",
   "execution_count": null,
   "id": "dbb9c527",
   "metadata": {},
   "outputs": [],
   "source": [
    "retrievel = vectorstore.as_retriever(search_kwargs={\"k\": 5})"
   ]
  },
  {
   "cell_type": "code",
   "execution_count": null,
   "id": "ce9b3a8c",
   "metadata": {},
   "outputs": [],
   "source": [
    "template_quests = '''\n",
    "Você é um especialista no livro Os sertões de Euclides da Cunha. Deve responder objetivamente a questão do usuario com base no conteudo fornecido de contexto\n",
    "\n",
    "Questão do usuario: {query}\n",
    "\n",
    "\n",
    "Conteudo: {content}\n",
    "'''\n",
    "\n",
    "rag_prompt = ChatPromptTemplate.from_template(template_quests)"
   ]
  },
  {
   "cell_type": "code",
   "execution_count": null,
   "id": "5035a390",
   "metadata": {},
   "outputs": [],
   "source": [
    "setup_retrievel = RunnableParallel({\n",
    "    \"query\": RunnablePassthrough(),\n",
    "    \"content\": retrievel,\n",
    "})"
   ]
  },
  {
   "cell_type": "code",
   "execution_count": null,
   "id": "d0bb0406",
   "metadata": {},
   "outputs": [],
   "source": [
    "output_parser = StrOutputParser()"
   ]
  },
  {
   "cell_type": "code",
   "execution_count": null,
   "id": "d8ffc477",
   "metadata": {},
   "outputs": [],
   "source": [
    "chain_retriever = setup_retrievel | rag_prompt | llm | output_parser"
   ]
  },
  {
   "cell_type": "code",
   "execution_count": null,
   "id": "b73d49a1",
   "metadata": {},
   "outputs": [
    {
     "data": {
      "text/plain": [
       "'A visão de Euclides da Cunha sobre o ambiente natural do sertão nordestino é de um local marcado por condições extremas e adversas, onde os elementos físicos como o clima, a geologia e a topografia se influenciam mutuamente. Ele destaca a mesologia do local, ressaltando a dificuldade de definição de qual agente é preponderante nesse ambiente. Euclides da Cunha descreve a região como selvagem, com uma flora extravagante e um clima instável, marcado por intermitências de cheias e estiagens. Essas condições climáticas extremas influenciam a vida dos habitantes do sertão nordestino, levando a um estilo de vida difícil e adaptado às adversidades do ambiente.'"
      ]
     },
     "execution_count": 34,
     "metadata": {},
     "output_type": "execute_result"
    }
   ],
   "source": [
    "chain_retriever.invoke('Qual é a visão de Euclides da Cunha sobre o ambiente natural do sertão nordestino e como ele influencia a vida dos habitantes?')"
   ]
  }
 ],
 "metadata": {
  "kernelspec": {
   "display_name": "envpowerbi",
   "language": "python",
   "name": "python3"
  },
  "language_info": {
   "codemirror_mode": {
    "name": "ipython",
    "version": 3
   },
   "file_extension": ".py",
   "mimetype": "text/x-python",
   "name": "python",
   "nbconvert_exporter": "python",
   "pygments_lexer": "ipython3",
   "version": "3.12.5"
  }
 },
 "nbformat": 4,
 "nbformat_minor": 5
}
