{
 "cells": [
  {
   "cell_type": "code",
   "execution_count": 13,
   "id": "44ce8648",
   "metadata": {},
   "outputs": [],
   "source": [
    "from langchain_text_splitters import RecursiveCharacterTextSplitter\n",
    "from langchain_openai import OpenAIEmbeddings, ChatOpenAI\n",
    "from langchain_community.vectorstores import Chroma\n",
    "from langchain_community.document_loaders import PyPDFLoader\n",
    "from langchain_core.prompts import ChatPromptTemplate\n",
    "\n",
    "from langchain_cohere import CohereRerank\n",
    "from langchain.retrievers.contextual_compression import ContextualCompressionRetriever\n",
    "\n",
    "\n",
    "from langchain_core.runnables import RunnablePassthrough, RunnableParallel\n",
    "from langchain_core.output_parsers import StrOutputParser\n",
    "\n",
    "\n",
    "import os\n",
    "from dotenv import dotenv_values\n"
   ]
  },
  {
   "cell_type": "code",
   "execution_count": 11,
   "id": "1dd60fda",
   "metadata": {},
   "outputs": [],
   "source": [
    "config = dotenv_values(dotenv_path='../.env')"
   ]
  },
  {
   "cell_type": "code",
   "execution_count": 12,
   "id": "1a168597",
   "metadata": {},
   "outputs": [],
   "source": [
    "os.environ['OPENAI_API_KEY'] = config['OPENAI_API_KEY']\n",
    "os.environ['COHERE_API_KEY'] = config['COHERE_API_KEY']"
   ]
  },
  {
   "cell_type": "markdown",
   "id": "3d1828f0",
   "metadata": {},
   "source": [
    "# Definição de LLMs"
   ]
  },
  {
   "cell_type": "code",
   "execution_count": 4,
   "id": "555f4559",
   "metadata": {},
   "outputs": [],
   "source": [
    "embeddings = OpenAIEmbeddings(model=\"text-embedding-3-small\")\n",
    "llm = ChatOpenAI(model=\"gpt-3.5-turbo\", temperature=0.4, max_tokens=500)"
   ]
  },
  {
   "cell_type": "markdown",
   "id": "47aefabf",
   "metadata": {},
   "source": [
    "# Carregar PDF e instanciar"
   ]
  },
  {
   "cell_type": "code",
   "execution_count": 5,
   "id": "ac4de3ee",
   "metadata": {},
   "outputs": [],
   "source": [
    "path_file = './os-sertoes.pdf'\n",
    "\n",
    "loader = PyPDFLoader(path_file, extract_images=False)\n",
    "\n",
    "pages = loader.load_and_split()"
   ]
  },
  {
   "cell_type": "markdown",
   "id": "780dee34",
   "metadata": {},
   "source": [
    "# Definição de splitter"
   ]
  },
  {
   "cell_type": "code",
   "execution_count": null,
   "id": "1ecb039b",
   "metadata": {},
   "outputs": [],
   "source": [
    "text_splitter = RecursiveCharacterTextSplitter(\n",
    "    chunk_size=4000,\n",
    "    chunk_overlap=200,\n",
    "    length_function=len,\n",
    "    add_start_index=True\n",
    ")"
   ]
  },
  {
   "cell_type": "code",
   "execution_count": 7,
   "id": "73b07664",
   "metadata": {},
   "outputs": [],
   "source": [
    "chunks = text_splitter.split_documents(pages)"
   ]
  },
  {
   "cell_type": "code",
   "execution_count": 8,
   "id": "fad20615",
   "metadata": {},
   "outputs": [],
   "source": [
    "vectorstore = Chroma(\n",
    "    embedding_function=embeddings,\n",
    "    persist_directory=\"rerank_rag_db\"\n",
    ")"
   ]
  },
  {
   "cell_type": "code",
   "execution_count": 9,
   "id": "0210d7ac",
   "metadata": {},
   "outputs": [],
   "source": [
    "naive_retriever = vectorstore.as_retriever(\n",
    "    search_kwargs={\"k\": 10}\n",
    ")"
   ]
  },
  {
   "cell_type": "code",
   "execution_count": 14,
   "id": "4312c43e",
   "metadata": {},
   "outputs": [],
   "source": [
    "rerank = CohereRerank(\n",
    "  top_n=5,\n",
    "  model=\"rerank-english-v2.0\"\n",
    ")"
   ]
  },
  {
   "cell_type": "code",
   "execution_count": 18,
   "id": "79c1b260",
   "metadata": {},
   "outputs": [],
   "source": [
    "compressor_rerank_retrievel = ContextualCompressionRetriever(\n",
    "  base_compressor=rerank,\n",
    "  base_retriever=naive_retriever\n",
    ")"
   ]
  },
  {
   "cell_type": "code",
   "execution_count": 19,
   "id": "ce9b3a8c",
   "metadata": {},
   "outputs": [],
   "source": [
    "template_quests = '''\n",
    "Você é um especialista no livro Os sertões de Euclides da Cunha. Deve responder objetivamente a questão do usuario com base no conteudo fornecido de contexto\n",
    "\n",
    "Questão do usuario: {query}\n",
    "\n",
    "\n",
    "Conteudo: {content}\n",
    "'''\n",
    "\n",
    "rag_prompt = ChatPromptTemplate.from_template(template_quests)"
   ]
  },
  {
   "cell_type": "code",
   "execution_count": 20,
   "id": "5035a390",
   "metadata": {},
   "outputs": [],
   "source": [
    "setup_retrievel = RunnableParallel({\n",
    "    \"query\": RunnablePassthrough(),\n",
    "    \"content\": compressor_rerank_retrievel,\n",
    "})"
   ]
  },
  {
   "cell_type": "code",
   "execution_count": 21,
   "id": "d0bb0406",
   "metadata": {},
   "outputs": [],
   "source": [
    "output_parser = StrOutputParser()"
   ]
  },
  {
   "cell_type": "code",
   "execution_count": 23,
   "id": "d8ffc477",
   "metadata": {},
   "outputs": [],
   "source": [
    "rerank_chain = setup_retrievel | rag_prompt | llm | output_parser"
   ]
  },
  {
   "cell_type": "markdown",
   "id": "189b7c40",
   "metadata": {},
   "source": [
    "# Perguntas"
   ]
  },
  {
   "cell_type": "code",
   "execution_count": 24,
   "id": "b73d49a1",
   "metadata": {},
   "outputs": [
    {
     "data": {
      "text/plain": [
       "'Euclides da Cunha descreve o ambiente natural do sertão nordestino como árido, hostil e desafiador. Ele destaca a seca, a aridez do solo, as secas prolongadas e as condições climáticas extremas como elementos marcantes desse ambiente. Essas características influenciam diretamente a vida dos habitantes do sertão, tornando a sobrevivência uma luta constante. A escassez de água, a falta de recursos naturais e as condições climáticas adversas impactam a agricultura, a pecuária e a economia da região, contribuindo para a pobreza e a desigualdade social. Euclides da Cunha também destaca a resistência e a força do povo sertanejo diante dessas adversidades, ressaltando sua capacidade de adaptação e sua relação íntima com a natureza árida e implacável do sertão.'"
      ]
     },
     "execution_count": 24,
     "metadata": {},
     "output_type": "execute_result"
    }
   ],
   "source": [
    "rerank_chain.invoke('Qual é a visão de Euclides da Cunha sobre o ambiente natural do sertão nordestino e como ele influencia a vida dos habitantes?')"
   ]
  },
  {
   "cell_type": "code",
   "execution_count": 25,
   "id": "5dc5f49a",
   "metadata": {},
   "outputs": [
    {
     "data": {
      "text/plain": [
       "'Euclides da Cunha descreve a população sertaneja como sendo marcada pela resistência física, pela bravura, pela adaptabilidade às condições adversas do ambiente e pela fé religiosa intensa. Ele relaciona essas características com o ambiente em que vivem ao destacar a influência do clima árido e das condições geográficas do sertão, que moldam a personalidade e o modo de vida dessas pessoas. Além disso, ele ressalta a relação dos sertanejos com a natureza, destacando sua luta constante contra as secas e as adversidades do meio ambiente.'"
      ]
     },
     "execution_count": 25,
     "metadata": {},
     "output_type": "execute_result"
    }
   ],
   "source": [
    "rerank_chain.invoke('Quais são as principais características da população sertaneja descritas por Euclides da Cunha? Como ele relaciona essas características com o ambiente em que vivem?')"
   ]
  },
  {
   "cell_type": "code",
   "execution_count": 26,
   "id": "4c2ea521",
   "metadata": {},
   "outputs": [
    {
     "data": {
      "text/plain": [
       "'O contexto histórico e político que levou à Guerra de Canudos, segundo Euclides da Cunha em Os sertões, foi marcado pela situação de extrema pobreza e marginalização social dos sertanejos do nordeste brasileiro, especialmente na região de Canudos, na Bahia. A população local sofria com a seca, a fome, a falta de assistência do governo e a opressão dos latifundiários. Além disso, havia um sentimento de revolta e resistência contra a República recém-instaurada no Brasil, que era vista como distante e indiferente às necessidades do povo do sertão. A liderança carismática de Antônio Conselheiro e a formação de uma comunidade religiosa e autossuficiente em Canudos contribuíram para a polarização e o conflito com as autoridades republicanas, que culminou na Guerra de Canudos em 1896.'"
      ]
     },
     "execution_count": 26,
     "metadata": {},
     "output_type": "execute_result"
    }
   ],
   "source": [
    "rerank_chain.invoke('Qual foi o contexto histórico e político que levou à Guerra de Canudos, segundo Euclides da Cunha?')"
   ]
  },
  {
   "cell_type": "code",
   "execution_count": 27,
   "id": "9e6abedf",
   "metadata": {},
   "outputs": [
    {
     "data": {
      "text/plain": [
       "'Euclides da Cunha descreve Antônio Conselheiro como um líder carismático e messiânico, capaz de atrair seguidores e criar uma comunidade religiosa em Canudos. Ele é retratado como um homem visionário, que pregava a volta às tradições e valores do sertão, desafiando a autoridade do governo e da Igreja. Seu papel na Guerra de Canudos é visto como fundamental, pois ele foi o líder espiritual e político dos sertanejos que resistiram às tropas do governo, tornando-se um símbolo de resistência e luta contra a opressão. Euclides da Cunha destaca a influência de Antônio Conselheiro na formação da comunidade de Canudos e na mobilização dos sertanejos, ressaltando sua importância histórica no conflito.'"
      ]
     },
     "execution_count": 27,
     "metadata": {},
     "output_type": "execute_result"
    }
   ],
   "source": [
    "rerank_chain.invoke('Como Euclides da Cunha descreve a figura de Antônio Conselheiro e seu papel na Guerra de Canudos?')"
   ]
  },
  {
   "cell_type": "code",
   "execution_count": 28,
   "id": "6b35882e",
   "metadata": {},
   "outputs": [
    {
     "data": {
      "text/plain": [
       "'Em \"Os Sertões\", Euclides da Cunha aborda principalmente a questão da formação do povo brasileiro, a luta entre civilização e barbárie, e a relação entre o homem e o meio ambiente no sertão nordestino. O autor realiza uma crítica social e política ao mostrar as condições precárias de vida dos sertanejos, a exploração dos trabalhadores rurais, a violência e a desigualdade social presentes na região.\\n\\nEsses aspectos refletem a visão do autor sobre o Brasil da época ao evidenciar as contradições e conflitos existentes no país, especialmente entre o progresso urbano e a realidade rural. Euclides da Cunha denuncia a violência e a injustiça social, além de destacar a resistência e a força do povo sertanejo diante das adversidades. Sua obra também critica a atuação do Estado e a falta de políticas públicas voltadas para o desenvolvimento e o bem-estar da população do sertão, evidenciando a necessidade de uma transformação social e política no Brasil.'"
      ]
     },
     "execution_count": 28,
     "metadata": {},
     "output_type": "execute_result"
    }
   ],
   "source": [
    "rerank_chain.invoke('Quais são os principais aspectos da crítica social e política presentes em \"Os Sertões\"? Como esses aspectos refletem a visão do autor sobre o Brasil da época?')"
   ]
  }
 ],
 "metadata": {
  "kernelspec": {
   "display_name": "envpowerbi",
   "language": "python",
   "name": "python3"
  },
  "language_info": {
   "codemirror_mode": {
    "name": "ipython",
    "version": 3
   },
   "file_extension": ".py",
   "mimetype": "text/x-python",
   "name": "python",
   "nbconvert_exporter": "python",
   "pygments_lexer": "ipython3",
   "version": "3.12.5"
  }
 },
 "nbformat": 4,
 "nbformat_minor": 5
}
